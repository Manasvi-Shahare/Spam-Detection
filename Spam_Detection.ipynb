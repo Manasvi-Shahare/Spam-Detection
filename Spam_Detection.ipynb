{
  "nbformat": 4,
  "nbformat_minor": 0,
  "metadata": {
    "colab": {
      "provenance": [],
      "include_colab_link": true
    },
    "kernelspec": {
      "name": "python3",
      "display_name": "Python 3"
    },
    "language_info": {
      "name": "python"
    }
  },
  "cells": [
    {
      "cell_type": "markdown",
      "metadata": {
        "id": "view-in-github",
        "colab_type": "text"
      },
      "source": [
        "<a href=\"https://colab.research.google.com/github/Manasvi-Shahare/Spam-Detection/blob/main/Spam_Detection.ipynb\" target=\"_parent\"><img src=\"https://colab.research.google.com/assets/colab-badge.svg\" alt=\"Open In Colab\"/></a>"
      ]
    },
    {
      "cell_type": "markdown",
      "source": [
        "# **SMS Spam Detection**\n",
        "Archana Kallakuri | Netid- akall011 | Student Id- 862393471\n",
        "\n",
        "Manasvi Shahare   | Netid- mshah107 | Student Id- 862385260 \n",
        "\n",
        "\n",
        "### The Question\n",
        "For a human, determining whether a message is interesting or just spam appears simple. Even while you read the message, your brain may already be aware that it's junk. **How can we build a model that, in some way, mimics the judgments the brain makes when deciding whether a message is spam or something important?**\n",
        "\n",
        "### The Dataset\n",
        "We are working on the SMS Spam Collection Data Set present in the UCI Machine Learning Repository. The SMS Spam Collection is a collection of messages with the tag \"SMS\" that have been gathered for SMS Spam study. It includes one collection of 5,574 English SMS messages that have been classified as either spam or ham (legal). The dataset can be found [here](https://archive.ics.uci.edu/ml/datasets/SMS+Spam+Collection).\n",
        "\n",
        "### The Method\n",
        "Our dataset consists consists of thousands of words and we treat each word as a feature. Since Naive Bayes Algorithm has the ability to handle a large number of features, we use this machine learning algorithm for classification."
      ],
      "metadata": {
        "id": "RSl6Iq4fis7c"
      }
    },
    {
      "cell_type": "markdown",
      "source": [
        "## **Basic Setup**\n",
        "We first import all the python and machine learning libraries required for our project. Numpy library is used for array processing. Pandas is used for data analysis and manipulation. Matplotlib is used for creating interactive visualizations. Scikit-learn is a machine learning library. Collections module provides various types of containers like list, dictionary etc."
      ],
      "metadata": {
        "id": "NaH4WR2apWCD"
      }
    },
    {
      "cell_type": "code",
      "source": [
        "import numpy as np\n",
        "import pandas as pd\n",
        "import matplotlib.pyplot as plt\n",
        "import seaborn as sns\n",
        "from collections import Counter\n",
        "from sklearn import feature_extraction, model_selection, naive_bayes\n",
        "from IPython.display import Image\n",
        "import warnings\n",
        "warnings.filterwarnings(\"ignore\")\n",
        "%matplotlib inline  \n",
        "import requests\n",
        "from io import BytesIO\n",
        "from zipfile import ZipFile"
      ],
      "metadata": {
        "id": "OWqIhzVUrJOA"
      },
      "execution_count": null,
      "outputs": []
    },
    {
      "cell_type": "markdown",
      "source": [
        "##**Importing Data**\n",
        "\n",
        "We are working on the SMS Spam Collection Data Set present in the UCI Machine Learning Repository. The collection is composed by just one text file, where each line has the correct class followed by the raw message.\n",
        "\n"
      ],
      "metadata": {
        "id": "E3kIjalhr-c7"
      }
    },
    {
      "cell_type": "code",
      "source": [
        "url = \"https://archive.ics.uci.edu/ml/machine-learning-databases/00228/smsspamcollection.zip\"\n",
        "\n",
        "z = ZipFile(BytesIO(requests.get(url).content))\n",
        "z.extractall()\n",
        "df = pd.read_table('/content/SMSSpamCollection',encoding='latin-1', names=['label', 'sms'])\n",
        "df.head()"
      ],
      "metadata": {
        "id": "S2r7muOCtXDy",
        "colab": {
          "base_uri": "https://localhost:8080/",
          "height": 204
        },
        "outputId": "a4959997-c956-4b8b-8de6-8f0590f98299"
      },
      "execution_count": null,
      "outputs": [
        {
          "output_type": "execute_result",
          "data": {
            "text/plain": [
              "  label                                                sms\n",
              "0   ham  Go until jurong point, crazy.. Available only ...\n",
              "1   ham                      Ok lar... Joking wif u oni...\n",
              "2  spam  Free entry in 2 a wkly comp to win FA Cup fina...\n",
              "3   ham  U dun say so early hor... U c already then say...\n",
              "4   ham  Nah I don't think he goes to usf, he lives aro..."
            ],
            "text/html": [
              "\n",
              "  <div id=\"df-a724bd79-fbb8-4648-9e87-a487a91b7ea8\">\n",
              "    <div class=\"colab-df-container\">\n",
              "      <div>\n",
              "<style scoped>\n",
              "    .dataframe tbody tr th:only-of-type {\n",
              "        vertical-align: middle;\n",
              "    }\n",
              "\n",
              "    .dataframe tbody tr th {\n",
              "        vertical-align: top;\n",
              "    }\n",
              "\n",
              "    .dataframe thead th {\n",
              "        text-align: right;\n",
              "    }\n",
              "</style>\n",
              "<table border=\"1\" class=\"dataframe\">\n",
              "  <thead>\n",
              "    <tr style=\"text-align: right;\">\n",
              "      <th></th>\n",
              "      <th>label</th>\n",
              "      <th>sms</th>\n",
              "    </tr>\n",
              "  </thead>\n",
              "  <tbody>\n",
              "    <tr>\n",
              "      <th>0</th>\n",
              "      <td>ham</td>\n",
              "      <td>Go until jurong point, crazy.. Available only ...</td>\n",
              "    </tr>\n",
              "    <tr>\n",
              "      <th>1</th>\n",
              "      <td>ham</td>\n",
              "      <td>Ok lar... Joking wif u oni...</td>\n",
              "    </tr>\n",
              "    <tr>\n",
              "      <th>2</th>\n",
              "      <td>spam</td>\n",
              "      <td>Free entry in 2 a wkly comp to win FA Cup fina...</td>\n",
              "    </tr>\n",
              "    <tr>\n",
              "      <th>3</th>\n",
              "      <td>ham</td>\n",
              "      <td>U dun say so early hor... U c already then say...</td>\n",
              "    </tr>\n",
              "    <tr>\n",
              "      <th>4</th>\n",
              "      <td>ham</td>\n",
              "      <td>Nah I don't think he goes to usf, he lives aro...</td>\n",
              "    </tr>\n",
              "  </tbody>\n",
              "</table>\n",
              "</div>\n",
              "      <button class=\"colab-df-convert\" onclick=\"convertToInteractive('df-a724bd79-fbb8-4648-9e87-a487a91b7ea8')\"\n",
              "              title=\"Convert this dataframe to an interactive table.\"\n",
              "              style=\"display:none;\">\n",
              "        \n",
              "  <svg xmlns=\"http://www.w3.org/2000/svg\" height=\"24px\"viewBox=\"0 0 24 24\"\n",
              "       width=\"24px\">\n",
              "    <path d=\"M0 0h24v24H0V0z\" fill=\"none\"/>\n",
              "    <path d=\"M18.56 5.44l.94 2.06.94-2.06 2.06-.94-2.06-.94-.94-2.06-.94 2.06-2.06.94zm-11 1L8.5 8.5l.94-2.06 2.06-.94-2.06-.94L8.5 2.5l-.94 2.06-2.06.94zm10 10l.94 2.06.94-2.06 2.06-.94-2.06-.94-.94-2.06-.94 2.06-2.06.94z\"/><path d=\"M17.41 7.96l-1.37-1.37c-.4-.4-.92-.59-1.43-.59-.52 0-1.04.2-1.43.59L10.3 9.45l-7.72 7.72c-.78.78-.78 2.05 0 2.83L4 21.41c.39.39.9.59 1.41.59.51 0 1.02-.2 1.41-.59l7.78-7.78 2.81-2.81c.8-.78.8-2.07 0-2.86zM5.41 20L4 18.59l7.72-7.72 1.47 1.35L5.41 20z\"/>\n",
              "  </svg>\n",
              "      </button>\n",
              "      \n",
              "  <style>\n",
              "    .colab-df-container {\n",
              "      display:flex;\n",
              "      flex-wrap:wrap;\n",
              "      gap: 12px;\n",
              "    }\n",
              "\n",
              "    .colab-df-convert {\n",
              "      background-color: #E8F0FE;\n",
              "      border: none;\n",
              "      border-radius: 50%;\n",
              "      cursor: pointer;\n",
              "      display: none;\n",
              "      fill: #1967D2;\n",
              "      height: 32px;\n",
              "      padding: 0 0 0 0;\n",
              "      width: 32px;\n",
              "    }\n",
              "\n",
              "    .colab-df-convert:hover {\n",
              "      background-color: #E2EBFA;\n",
              "      box-shadow: 0px 1px 2px rgba(60, 64, 67, 0.3), 0px 1px 3px 1px rgba(60, 64, 67, 0.15);\n",
              "      fill: #174EA6;\n",
              "    }\n",
              "\n",
              "    [theme=dark] .colab-df-convert {\n",
              "      background-color: #3B4455;\n",
              "      fill: #D2E3FC;\n",
              "    }\n",
              "\n",
              "    [theme=dark] .colab-df-convert:hover {\n",
              "      background-color: #434B5C;\n",
              "      box-shadow: 0px 1px 3px 1px rgba(0, 0, 0, 0.15);\n",
              "      filter: drop-shadow(0px 1px 2px rgba(0, 0, 0, 0.3));\n",
              "      fill: #FFFFFF;\n",
              "    }\n",
              "  </style>\n",
              "\n",
              "      <script>\n",
              "        const buttonEl =\n",
              "          document.querySelector('#df-a724bd79-fbb8-4648-9e87-a487a91b7ea8 button.colab-df-convert');\n",
              "        buttonEl.style.display =\n",
              "          google.colab.kernel.accessAllowed ? 'block' : 'none';\n",
              "\n",
              "        async function convertToInteractive(key) {\n",
              "          const element = document.querySelector('#df-a724bd79-fbb8-4648-9e87-a487a91b7ea8');\n",
              "          const dataTable =\n",
              "            await google.colab.kernel.invokeFunction('convertToInteractive',\n",
              "                                                     [key], {});\n",
              "          if (!dataTable) return;\n",
              "\n",
              "          const docLinkHtml = 'Like what you see? Visit the ' +\n",
              "            '<a target=\"_blank\" href=https://colab.research.google.com/notebooks/data_table.ipynb>data table notebook</a>'\n",
              "            + ' to learn more about interactive tables.';\n",
              "          element.innerHTML = '';\n",
              "          dataTable['output_type'] = 'display_data';\n",
              "          await google.colab.output.renderOutput(dataTable, element);\n",
              "          const docLink = document.createElement('div');\n",
              "          docLink.innerHTML = docLinkHtml;\n",
              "          element.appendChild(docLink);\n",
              "        }\n",
              "      </script>\n",
              "    </div>\n",
              "  </div>\n",
              "  "
            ]
          },
          "metadata": {},
          "execution_count": 87
        }
      ]
    },
    {
      "cell_type": "markdown",
      "source": [
        "## **Exploratory Data Analysis**\n"
      ],
      "metadata": {
        "id": "6Rkp5Voz1wva"
      }
    },
    {
      "cell_type": "code",
      "source": [
        "#Total number of SMS\n",
        "print (len(df))"
      ],
      "metadata": {
        "id": "9r1qHtBT2usv",
        "colab": {
          "base_uri": "https://localhost:8080/"
        },
        "outputId": "ac48ecdb-4df0-4d18-d04b-aa2acd24bba5"
      },
      "execution_count": null,
      "outputs": [
        {
          "output_type": "stream",
          "name": "stdout",
          "text": [
            "5572\n"
          ]
        }
      ]
    },
    {
      "cell_type": "code",
      "source": [
        "#Number of ham and spam SMS\n",
        "df.label.value_counts()"
      ],
      "metadata": {
        "id": "SE8NuwSw2EdJ",
        "colab": {
          "base_uri": "https://localhost:8080/"
        },
        "outputId": "6c29e34e-0366-40ba-e7d0-eb8df9b6c86e"
      },
      "execution_count": null,
      "outputs": [
        {
          "output_type": "execute_result",
          "data": {
            "text/plain": [
              "ham     4825\n",
              "spam     747\n",
              "Name: label, dtype: int64"
            ]
          },
          "metadata": {},
          "execution_count": 89
        }
      ]
    },
    {
      "cell_type": "code",
      "source": [
        "#show all the characteristics of dataset\n",
        "df.describe()"
      ],
      "metadata": {
        "id": "4vnK1CVC3YmQ",
        "colab": {
          "base_uri": "https://localhost:8080/",
          "height": 173
        },
        "outputId": "25382b42-273c-452e-945d-b99d81a02c25"
      },
      "execution_count": null,
      "outputs": [
        {
          "output_type": "execute_result",
          "data": {
            "text/plain": [
              "       label                     sms\n",
              "count   5572                    5572\n",
              "unique     2                    5169\n",
              "top      ham  Sorry, I'll call later\n",
              "freq    4825                      30"
            ],
            "text/html": [
              "\n",
              "  <div id=\"df-08475297-262a-4f89-b7eb-2f97a5a9e09f\">\n",
              "    <div class=\"colab-df-container\">\n",
              "      <div>\n",
              "<style scoped>\n",
              "    .dataframe tbody tr th:only-of-type {\n",
              "        vertical-align: middle;\n",
              "    }\n",
              "\n",
              "    .dataframe tbody tr th {\n",
              "        vertical-align: top;\n",
              "    }\n",
              "\n",
              "    .dataframe thead th {\n",
              "        text-align: right;\n",
              "    }\n",
              "</style>\n",
              "<table border=\"1\" class=\"dataframe\">\n",
              "  <thead>\n",
              "    <tr style=\"text-align: right;\">\n",
              "      <th></th>\n",
              "      <th>label</th>\n",
              "      <th>sms</th>\n",
              "    </tr>\n",
              "  </thead>\n",
              "  <tbody>\n",
              "    <tr>\n",
              "      <th>count</th>\n",
              "      <td>5572</td>\n",
              "      <td>5572</td>\n",
              "    </tr>\n",
              "    <tr>\n",
              "      <th>unique</th>\n",
              "      <td>2</td>\n",
              "      <td>5169</td>\n",
              "    </tr>\n",
              "    <tr>\n",
              "      <th>top</th>\n",
              "      <td>ham</td>\n",
              "      <td>Sorry, I'll call later</td>\n",
              "    </tr>\n",
              "    <tr>\n",
              "      <th>freq</th>\n",
              "      <td>4825</td>\n",
              "      <td>30</td>\n",
              "    </tr>\n",
              "  </tbody>\n",
              "</table>\n",
              "</div>\n",
              "      <button class=\"colab-df-convert\" onclick=\"convertToInteractive('df-08475297-262a-4f89-b7eb-2f97a5a9e09f')\"\n",
              "              title=\"Convert this dataframe to an interactive table.\"\n",
              "              style=\"display:none;\">\n",
              "        \n",
              "  <svg xmlns=\"http://www.w3.org/2000/svg\" height=\"24px\"viewBox=\"0 0 24 24\"\n",
              "       width=\"24px\">\n",
              "    <path d=\"M0 0h24v24H0V0z\" fill=\"none\"/>\n",
              "    <path d=\"M18.56 5.44l.94 2.06.94-2.06 2.06-.94-2.06-.94-.94-2.06-.94 2.06-2.06.94zm-11 1L8.5 8.5l.94-2.06 2.06-.94-2.06-.94L8.5 2.5l-.94 2.06-2.06.94zm10 10l.94 2.06.94-2.06 2.06-.94-2.06-.94-.94-2.06-.94 2.06-2.06.94z\"/><path d=\"M17.41 7.96l-1.37-1.37c-.4-.4-.92-.59-1.43-.59-.52 0-1.04.2-1.43.59L10.3 9.45l-7.72 7.72c-.78.78-.78 2.05 0 2.83L4 21.41c.39.39.9.59 1.41.59.51 0 1.02-.2 1.41-.59l7.78-7.78 2.81-2.81c.8-.78.8-2.07 0-2.86zM5.41 20L4 18.59l7.72-7.72 1.47 1.35L5.41 20z\"/>\n",
              "  </svg>\n",
              "      </button>\n",
              "      \n",
              "  <style>\n",
              "    .colab-df-container {\n",
              "      display:flex;\n",
              "      flex-wrap:wrap;\n",
              "      gap: 12px;\n",
              "    }\n",
              "\n",
              "    .colab-df-convert {\n",
              "      background-color: #E8F0FE;\n",
              "      border: none;\n",
              "      border-radius: 50%;\n",
              "      cursor: pointer;\n",
              "      display: none;\n",
              "      fill: #1967D2;\n",
              "      height: 32px;\n",
              "      padding: 0 0 0 0;\n",
              "      width: 32px;\n",
              "    }\n",
              "\n",
              "    .colab-df-convert:hover {\n",
              "      background-color: #E2EBFA;\n",
              "      box-shadow: 0px 1px 2px rgba(60, 64, 67, 0.3), 0px 1px 3px 1px rgba(60, 64, 67, 0.15);\n",
              "      fill: #174EA6;\n",
              "    }\n",
              "\n",
              "    [theme=dark] .colab-df-convert {\n",
              "      background-color: #3B4455;\n",
              "      fill: #D2E3FC;\n",
              "    }\n",
              "\n",
              "    [theme=dark] .colab-df-convert:hover {\n",
              "      background-color: #434B5C;\n",
              "      box-shadow: 0px 1px 3px 1px rgba(0, 0, 0, 0.15);\n",
              "      filter: drop-shadow(0px 1px 2px rgba(0, 0, 0, 0.3));\n",
              "      fill: #FFFFFF;\n",
              "    }\n",
              "  </style>\n",
              "\n",
              "      <script>\n",
              "        const buttonEl =\n",
              "          document.querySelector('#df-08475297-262a-4f89-b7eb-2f97a5a9e09f button.colab-df-convert');\n",
              "        buttonEl.style.display =\n",
              "          google.colab.kernel.accessAllowed ? 'block' : 'none';\n",
              "\n",
              "        async function convertToInteractive(key) {\n",
              "          const element = document.querySelector('#df-08475297-262a-4f89-b7eb-2f97a5a9e09f');\n",
              "          const dataTable =\n",
              "            await google.colab.kernel.invokeFunction('convertToInteractive',\n",
              "                                                     [key], {});\n",
              "          if (!dataTable) return;\n",
              "\n",
              "          const docLinkHtml = 'Like what you see? Visit the ' +\n",
              "            '<a target=\"_blank\" href=https://colab.research.google.com/notebooks/data_table.ipynb>data table notebook</a>'\n",
              "            + ' to learn more about interactive tables.';\n",
              "          element.innerHTML = '';\n",
              "          dataTable['output_type'] = 'display_data';\n",
              "          await google.colab.output.renderOutput(dataTable, element);\n",
              "          const docLink = document.createElement('div');\n",
              "          docLink.innerHTML = docLinkHtml;\n",
              "          element.appendChild(docLink);\n",
              "        }\n",
              "      </script>\n",
              "    </div>\n",
              "  </div>\n",
              "  "
            ]
          },
          "metadata": {},
          "execution_count": 90
        }
      ]
    },
    {
      "cell_type": "code",
      "source": [
        "#Assigning a length field to each message\n",
        "df['length'] = df['sms'].apply(len)\n",
        "df.head(5)"
      ],
      "metadata": {
        "id": "m0Qr1MACLZ7r",
        "colab": {
          "base_uri": "https://localhost:8080/",
          "height": 204
        },
        "outputId": "cf827eb3-a210-4bb7-daf4-591d52fb8825"
      },
      "execution_count": null,
      "outputs": [
        {
          "output_type": "execute_result",
          "data": {
            "text/plain": [
              "  label                                                sms  length\n",
              "0   ham  Go until jurong point, crazy.. Available only ...     111\n",
              "1   ham                      Ok lar... Joking wif u oni...      29\n",
              "2  spam  Free entry in 2 a wkly comp to win FA Cup fina...     155\n",
              "3   ham  U dun say so early hor... U c already then say...      49\n",
              "4   ham  Nah I don't think he goes to usf, he lives aro...      61"
            ],
            "text/html": [
              "\n",
              "  <div id=\"df-36da3f6b-1aa4-4346-ac41-867b07df22e4\">\n",
              "    <div class=\"colab-df-container\">\n",
              "      <div>\n",
              "<style scoped>\n",
              "    .dataframe tbody tr th:only-of-type {\n",
              "        vertical-align: middle;\n",
              "    }\n",
              "\n",
              "    .dataframe tbody tr th {\n",
              "        vertical-align: top;\n",
              "    }\n",
              "\n",
              "    .dataframe thead th {\n",
              "        text-align: right;\n",
              "    }\n",
              "</style>\n",
              "<table border=\"1\" class=\"dataframe\">\n",
              "  <thead>\n",
              "    <tr style=\"text-align: right;\">\n",
              "      <th></th>\n",
              "      <th>label</th>\n",
              "      <th>sms</th>\n",
              "      <th>length</th>\n",
              "    </tr>\n",
              "  </thead>\n",
              "  <tbody>\n",
              "    <tr>\n",
              "      <th>0</th>\n",
              "      <td>ham</td>\n",
              "      <td>Go until jurong point, crazy.. Available only ...</td>\n",
              "      <td>111</td>\n",
              "    </tr>\n",
              "    <tr>\n",
              "      <th>1</th>\n",
              "      <td>ham</td>\n",
              "      <td>Ok lar... Joking wif u oni...</td>\n",
              "      <td>29</td>\n",
              "    </tr>\n",
              "    <tr>\n",
              "      <th>2</th>\n",
              "      <td>spam</td>\n",
              "      <td>Free entry in 2 a wkly comp to win FA Cup fina...</td>\n",
              "      <td>155</td>\n",
              "    </tr>\n",
              "    <tr>\n",
              "      <th>3</th>\n",
              "      <td>ham</td>\n",
              "      <td>U dun say so early hor... U c already then say...</td>\n",
              "      <td>49</td>\n",
              "    </tr>\n",
              "    <tr>\n",
              "      <th>4</th>\n",
              "      <td>ham</td>\n",
              "      <td>Nah I don't think he goes to usf, he lives aro...</td>\n",
              "      <td>61</td>\n",
              "    </tr>\n",
              "  </tbody>\n",
              "</table>\n",
              "</div>\n",
              "      <button class=\"colab-df-convert\" onclick=\"convertToInteractive('df-36da3f6b-1aa4-4346-ac41-867b07df22e4')\"\n",
              "              title=\"Convert this dataframe to an interactive table.\"\n",
              "              style=\"display:none;\">\n",
              "        \n",
              "  <svg xmlns=\"http://www.w3.org/2000/svg\" height=\"24px\"viewBox=\"0 0 24 24\"\n",
              "       width=\"24px\">\n",
              "    <path d=\"M0 0h24v24H0V0z\" fill=\"none\"/>\n",
              "    <path d=\"M18.56 5.44l.94 2.06.94-2.06 2.06-.94-2.06-.94-.94-2.06-.94 2.06-2.06.94zm-11 1L8.5 8.5l.94-2.06 2.06-.94-2.06-.94L8.5 2.5l-.94 2.06-2.06.94zm10 10l.94 2.06.94-2.06 2.06-.94-2.06-.94-.94-2.06-.94 2.06-2.06.94z\"/><path d=\"M17.41 7.96l-1.37-1.37c-.4-.4-.92-.59-1.43-.59-.52 0-1.04.2-1.43.59L10.3 9.45l-7.72 7.72c-.78.78-.78 2.05 0 2.83L4 21.41c.39.39.9.59 1.41.59.51 0 1.02-.2 1.41-.59l7.78-7.78 2.81-2.81c.8-.78.8-2.07 0-2.86zM5.41 20L4 18.59l7.72-7.72 1.47 1.35L5.41 20z\"/>\n",
              "  </svg>\n",
              "      </button>\n",
              "      \n",
              "  <style>\n",
              "    .colab-df-container {\n",
              "      display:flex;\n",
              "      flex-wrap:wrap;\n",
              "      gap: 12px;\n",
              "    }\n",
              "\n",
              "    .colab-df-convert {\n",
              "      background-color: #E8F0FE;\n",
              "      border: none;\n",
              "      border-radius: 50%;\n",
              "      cursor: pointer;\n",
              "      display: none;\n",
              "      fill: #1967D2;\n",
              "      height: 32px;\n",
              "      padding: 0 0 0 0;\n",
              "      width: 32px;\n",
              "    }\n",
              "\n",
              "    .colab-df-convert:hover {\n",
              "      background-color: #E2EBFA;\n",
              "      box-shadow: 0px 1px 2px rgba(60, 64, 67, 0.3), 0px 1px 3px 1px rgba(60, 64, 67, 0.15);\n",
              "      fill: #174EA6;\n",
              "    }\n",
              "\n",
              "    [theme=dark] .colab-df-convert {\n",
              "      background-color: #3B4455;\n",
              "      fill: #D2E3FC;\n",
              "    }\n",
              "\n",
              "    [theme=dark] .colab-df-convert:hover {\n",
              "      background-color: #434B5C;\n",
              "      box-shadow: 0px 1px 3px 1px rgba(0, 0, 0, 0.15);\n",
              "      filter: drop-shadow(0px 1px 2px rgba(0, 0, 0, 0.3));\n",
              "      fill: #FFFFFF;\n",
              "    }\n",
              "  </style>\n",
              "\n",
              "      <script>\n",
              "        const buttonEl =\n",
              "          document.querySelector('#df-36da3f6b-1aa4-4346-ac41-867b07df22e4 button.colab-df-convert');\n",
              "        buttonEl.style.display =\n",
              "          google.colab.kernel.accessAllowed ? 'block' : 'none';\n",
              "\n",
              "        async function convertToInteractive(key) {\n",
              "          const element = document.querySelector('#df-36da3f6b-1aa4-4346-ac41-867b07df22e4');\n",
              "          const dataTable =\n",
              "            await google.colab.kernel.invokeFunction('convertToInteractive',\n",
              "                                                     [key], {});\n",
              "          if (!dataTable) return;\n",
              "\n",
              "          const docLinkHtml = 'Like what you see? Visit the ' +\n",
              "            '<a target=\"_blank\" href=https://colab.research.google.com/notebooks/data_table.ipynb>data table notebook</a>'\n",
              "            + ' to learn more about interactive tables.';\n",
              "          element.innerHTML = '';\n",
              "          dataTable['output_type'] = 'display_data';\n",
              "          await google.colab.output.renderOutput(dataTable, element);\n",
              "          const docLink = document.createElement('div');\n",
              "          docLink.innerHTML = docLinkHtml;\n",
              "          element.appendChild(docLink);\n",
              "        }\n",
              "      </script>\n",
              "    </div>\n",
              "  </div>\n",
              "  "
            ]
          },
          "metadata": {},
          "execution_count": 91
        }
      ]
    },
    {
      "cell_type": "code",
      "source": [
        "#Generating histograms for ham and spam messages\n",
        "df.hist(column='length', by='label', bins=50,figsize=(10,4))"
      ],
      "metadata": {
        "id": "3bK2yDMX30k3",
        "colab": {
          "base_uri": "https://localhost:8080/",
          "height": 340
        },
        "outputId": "06c69da2-4528-4639-9d66-f02e81dd4c2c"
      },
      "execution_count": null,
      "outputs": [
        {
          "output_type": "execute_result",
          "data": {
            "text/plain": [
              "array([<matplotlib.axes._subplots.AxesSubplot object at 0x7f3a48baac90>,\n",
              "       <matplotlib.axes._subplots.AxesSubplot object at 0x7f3a48a0b750>],\n",
              "      dtype=object)"
            ]
          },
          "metadata": {},
          "execution_count": 92
        },
        {
          "output_type": "display_data",
          "data": {
            "text/plain": [
              "<Figure size 720x288 with 2 Axes>"
            ],
            "image/png": "[encoded data removed]"
          },
          "metadata": {
            "needs_background": "light"
          }
        }
      ]
    },
    {
      "cell_type": "code",
      "source": [
        "#Plotting bar graph\n",
        "count_Class=pd.value_counts(df[\"label\"], sort= True)\n",
        "count_Class.plot(kind= 'bar', color= [\"green\", \"red\"])\n",
        "plt.title('Bar chart')\n",
        "plt.show()"
      ],
      "metadata": {
        "id": "tVr3PDXn34zL",
        "colab": {
          "base_uri": "https://localhost:8080/",
          "height": 299
        },
        "outputId": "f5a765bb-e5ad-4dc2-d143-cd67da6ba914"
      },
      "execution_count": null,
      "outputs": [
        {
          "output_type": "display_data",
          "data": {
            "text/plain": [
              "<Figure size 432x288 with 1 Axes>"
            ],
            "image/png": "[encoded data removed]"
          },
          "metadata": {
            "needs_background": "light"
          }
        }
      ]
    },
    {
      "cell_type": "code",
      "source": [
        "#plotting pie chart to show the percentage of ham and spam messages\n",
        "count_Class.plot(kind = 'pie',  autopct='%1.0f%%', colors=[\"green\", \"red\"])\n",
        "plt.title('Pie chart')\n",
        "plt.ylabel('')\n",
        "plt.show()"
      ],
      "metadata": {
        "id": "HadKGi6Q4Dot",
        "colab": {
          "base_uri": "https://localhost:8080/",
          "height": 264
        },
        "outputId": "a0736146-0742-4791-ec70-cf00c316de55"
      },
      "execution_count": null,
      "outputs": [
        {
          "output_type": "display_data",
          "data": {
            "text/plain": [
              "<Figure size 432x288 with 1 Axes>"
            ],
            "image/png": "[encoded data removed]"
          },
          "metadata": {}
        }
      ]
    },
    {
      "cell_type": "code",
      "source": [
        "#Count the more frequent words in spam and non-spam messages\n",
        "count1 = Counter(\" \".join(df[df['label']=='ham'][\"sms\"]).split()).most_common(20)\n",
        "df1 = pd.DataFrame.from_dict(count1)\n",
        "df1 = df1.rename(columns={0: \"words in ham\", 1 : \"count\"})\n",
        "count2 = Counter(\" \".join(df[df['label']=='spam'][\"sms\"]).split()).most_common(20)\n",
        "df2 = pd.DataFrame.from_dict(count2)\n",
        "df2 = df2.rename(columns={0: \"words in spam\", 1 : \"count_\"})"
      ],
      "metadata": {
        "id": "qFUY288UK8Gp"
      },
      "execution_count": null,
      "outputs": []
    },
    {
      "cell_type": "code",
      "source": [
        "df1.plot.bar(legend = False, color = 'green')\n",
        "y_pos = np.arange(len(df1[\"words in ham\"]))\n",
        "plt.xticks(y_pos, df1[\"words in ham\"])\n",
        "plt.title('More frequent words in ham messages')\n",
        "plt.xlabel('words')\n",
        "plt.ylabel('frequency')\n",
        "plt.show()"
      ],
      "metadata": {
        "id": "y7W2HMJVK9Jw",
        "colab": {
          "base_uri": "https://localhost:8080/",
          "height": 310
        },
        "outputId": "ce2f8561-0f2d-40b8-e610-a8dd8bd448c4"
      },
      "execution_count": null,
      "outputs": [
        {
          "output_type": "display_data",
          "data": {
            "text/plain": [
              "<Figure size 432x288 with 1 Axes>"
            ],
            "image/png": "[encoded data removed]"
          },
          "metadata": {
            "needs_background": "light"
          }
        }
      ]
    },
    {
      "cell_type": "code",
      "source": [
        "df2.plot.bar(legend = False, color = 'red')\n",
        "y_pos = np.arange(len(df2[\"words in spam\"]))\n",
        "plt.xticks(y_pos, df2[\"words in spam\"])\n",
        "plt.title('More frequent words in spam messages')\n",
        "plt.xlabel('words')\n",
        "plt.ylabel('frequency')\n",
        "plt.show()"
      ],
      "metadata": {
        "id": "We9vSlmyLDNS",
        "colab": {
          "base_uri": "https://localhost:8080/",
          "height": 310
        },
        "outputId": "829d7971-2106-43a6-fed6-40a72de7cda8"
      },
      "execution_count": null,
      "outputs": [
        {
          "output_type": "display_data",
          "data": {
            "text/plain": [
              "<Figure size 432x288 with 1 Axes>"
            ],
            "image/png": "[encoded data removed]"
          },
          "metadata": {
            "needs_background": "light"
          }
        }
      ]
    },
    {
      "cell_type": "code",
      "source": [
        "#Assigning the value 0 to ham messages and 1 to spam messages\n",
        "df.loc[:,'label'] = df.label.map({'ham':0, 'spam':1})\n",
        "print(df.shape)\n",
        "df.head()"
      ],
      "metadata": {
        "id": "cWBs2hbm42gU",
        "colab": {
          "base_uri": "https://localhost:8080/",
          "height": 221
        },
        "outputId": "3e95be1d-a2f3-4077-fa22-af7a9f161e88"
      },
      "execution_count": null,
      "outputs": [
        {
          "output_type": "stream",
          "name": "stdout",
          "text": [
            "(5572, 3)\n"
          ]
        },
        {
          "output_type": "execute_result",
          "data": {
            "text/plain": [
              "   label                                                sms  length\n",
              "0      0  Go until jurong point, crazy.. Available only ...     111\n",
              "1      0                      Ok lar... Joking wif u oni...      29\n",
              "2      1  Free entry in 2 a wkly comp to win FA Cup fina...     155\n",
              "3      0  U dun say so early hor... U c already then say...      49\n",
              "4      0  Nah I don't think he goes to usf, he lives aro...      61"
            ],
            "text/html": [
              "\n",
              "  <div id=\"df-05521711-366a-446b-9067-a420182e82f8\">\n",
              "    <div class=\"colab-df-container\">\n",
              "      <div>\n",
              "<style scoped>\n",
              "    .dataframe tbody tr th:only-of-type {\n",
              "        vertical-align: middle;\n",
              "    }\n",
              "\n",
              "    .dataframe tbody tr th {\n",
              "        vertical-align: top;\n",
              "    }\n",
              "\n",
              "    .dataframe thead th {\n",
              "        text-align: right;\n",
              "    }\n",
              "</style>\n",
              "<table border=\"1\" class=\"dataframe\">\n",
              "  <thead>\n",
              "    <tr style=\"text-align: right;\">\n",
              "      <th></th>\n",
              "      <th>label</th>\n",
              "      <th>sms</th>\n",
              "      <th>length</th>\n",
              "    </tr>\n",
              "  </thead>\n",
              "  <tbody>\n",
              "    <tr>\n",
              "      <th>0</th>\n",
              "      <td>0</td>\n",
              "      <td>Go until jurong point, crazy.. Available only ...</td>\n",
              "      <td>111</td>\n",
              "    </tr>\n",
              "    <tr>\n",
              "      <th>1</th>\n",
              "      <td>0</td>\n",
              "      <td>Ok lar... Joking wif u oni...</td>\n",
              "      <td>29</td>\n",
              "    </tr>\n",
              "    <tr>\n",
              "      <th>2</th>\n",
              "      <td>1</td>\n",
              "      <td>Free entry in 2 a wkly comp to win FA Cup fina...</td>\n",
              "      <td>155</td>\n",
              "    </tr>\n",
              "    <tr>\n",
              "      <th>3</th>\n",
              "      <td>0</td>\n",
              "      <td>U dun say so early hor... U c already then say...</td>\n",
              "      <td>49</td>\n",
              "    </tr>\n",
              "    <tr>\n",
              "      <th>4</th>\n",
              "      <td>0</td>\n",
              "      <td>Nah I don't think he goes to usf, he lives aro...</td>\n",
              "      <td>61</td>\n",
              "    </tr>\n",
              "  </tbody>\n",
              "</table>\n",
              "</div>\n",
              "      <button class=\"colab-df-convert\" onclick=\"convertToInteractive('df-05521711-366a-446b-9067-a420182e82f8')\"\n",
              "              title=\"Convert this dataframe to an interactive table.\"\n",
              "              style=\"display:none;\">\n",
              "        \n",
              "  <svg xmlns=\"http://www.w3.org/2000/svg\" height=\"24px\"viewBox=\"0 0 24 24\"\n",
              "       width=\"24px\">\n",
              "    <path d=\"M0 0h24v24H0V0z\" fill=\"none\"/>\n",
              "    <path d=\"M18.56 5.44l.94 2.06.94-2.06 2.06-.94-2.06-.94-.94-2.06-.94 2.06-2.06.94zm-11 1L8.5 8.5l.94-2.06 2.06-.94-2.06-.94L8.5 2.5l-.94 2.06-2.06.94zm10 10l.94 2.06.94-2.06 2.06-.94-2.06-.94-.94-2.06-.94 2.06-2.06.94z\"/><path d=\"M17.41 7.96l-1.37-1.37c-.4-.4-.92-.59-1.43-.59-.52 0-1.04.2-1.43.59L10.3 9.45l-7.72 7.72c-.78.78-.78 2.05 0 2.83L4 21.41c.39.39.9.59 1.41.59.51 0 1.02-.2 1.41-.59l7.78-7.78 2.81-2.81c.8-.78.8-2.07 0-2.86zM5.41 20L4 18.59l7.72-7.72 1.47 1.35L5.41 20z\"/>\n",
              "  </svg>\n",
              "      </button>\n",
              "      \n",
              "  <style>\n",
              "    .colab-df-container {\n",
              "      display:flex;\n",
              "      flex-wrap:wrap;\n",
              "      gap: 12px;\n",
              "    }\n",
              "\n",
              "    .colab-df-convert {\n",
              "      background-color: #E8F0FE;\n",
              "      border: none;\n",
              "      border-radius: 50%;\n",
              "      cursor: pointer;\n",
              "      display: none;\n",
              "      fill: #1967D2;\n",
              "      height: 32px;\n",
              "      padding: 0 0 0 0;\n",
              "      width: 32px;\n",
              "    }\n",
              "\n",
              "    .colab-df-convert:hover {\n",
              "      background-color: #E2EBFA;\n",
              "      box-shadow: 0px 1px 2px rgba(60, 64, 67, 0.3), 0px 1px 3px 1px rgba(60, 64, 67, 0.15);\n",
              "      fill: #174EA6;\n",
              "    }\n",
              "\n",
              "    [theme=dark] .colab-df-convert {\n",
              "      background-color: #3B4455;\n",
              "      fill: #D2E3FC;\n",
              "    }\n",
              "\n",
              "    [theme=dark] .colab-df-convert:hover {\n",
              "      background-color: #434B5C;\n",
              "      box-shadow: 0px 1px 3px 1px rgba(0, 0, 0, 0.15);\n",
              "      filter: drop-shadow(0px 1px 2px rgba(0, 0, 0, 0.3));\n",
              "      fill: #FFFFFF;\n",
              "    }\n",
              "  </style>\n",
              "\n",
              "      <script>\n",
              "        const buttonEl =\n",
              "          document.querySelector('#df-05521711-366a-446b-9067-a420182e82f8 button.colab-df-convert');\n",
              "        buttonEl.style.display =\n",
              "          google.colab.kernel.accessAllowed ? 'block' : 'none';\n",
              "\n",
              "        async function convertToInteractive(key) {\n",
              "          const element = document.querySelector('#df-05521711-366a-446b-9067-a420182e82f8');\n",
              "          const dataTable =\n",
              "            await google.colab.kernel.invokeFunction('convertToInteractive',\n",
              "                                                     [key], {});\n",
              "          if (!dataTable) return;\n",
              "\n",
              "          const docLinkHtml = 'Like what you see? Visit the ' +\n",
              "            '<a target=\"_blank\" href=https://colab.research.google.com/notebooks/data_table.ipynb>data table notebook</a>'\n",
              "            + ' to learn more about interactive tables.';\n",
              "          element.innerHTML = '';\n",
              "          dataTable['output_type'] = 'display_data';\n",
              "          await google.colab.output.renderOutput(dataTable, element);\n",
              "          const docLink = document.createElement('div');\n",
              "          docLink.innerHTML = docLinkHtml;\n",
              "          element.appendChild(docLink);\n",
              "        }\n",
              "      </script>\n",
              "    </div>\n",
              "  </div>\n",
              "  "
            ]
          },
          "metadata": {},
          "execution_count": 98
        }
      ]
    },
    {
      "cell_type": "markdown",
      "source": [
        "## **Bag of Words Model**\n",
        "\n",
        "We have a huge collection of text data in our data set. SMS messages are often text-heavy, yet the majority of machine learning algorithms require numerical data as input. For machine learning algorithms, we need a means to represent text data, and the bag-of-words model aids us in accomplishing that goal. It is a technique for removing textual information for inclusion in machine learning systems. Using this method, we determine the frequency of each token by using the tokenized words for each observation.\n",
        "\n",
        "We will use the Sklearns count vectorizer method to deal with this, which accomplishes the following: \n",
        "\n",
        "*  The string is tokenized (divided into its individual words) and each token is assigned an integer ID. \n",
        "*  Each occurrence of each of those tokens is counted.\n",
        "\n",
        "We try to build a frequency matrix on a smaller number of documents to make sure we get how the document-term matrix is generated.\n"
      ],
      "metadata": {
        "id": "b1aFaQq36iGz"
      }
    },
    {
      "cell_type": "markdown",
      "source": [
        "### 1. Converting all words to lowercase"
      ],
      "metadata": {
        "id": "ZgQjghrGD9cU"
      }
    },
    {
      "cell_type": "code",
      "source": [
        "messages = df.head(5).get('sms')\n",
        "lower_case_messages = []\n",
        "for message in messages:\n",
        "  lower_case_message = ''\n",
        "  lower_case_message = message.lower()\n",
        "  lower_case_messages.append(lower_case_message)\n",
        "print(lower_case_messages)"
      ],
      "metadata": {
        "id": "3kt2Upnb_fiA",
        "colab": {
          "base_uri": "https://localhost:8080/"
        },
        "outputId": "e83795ea-3de8-463f-da9d-8271503a4159"
      },
      "execution_count": null,
      "outputs": [
        {
          "output_type": "stream",
          "name": "stdout",
          "text": [
            "['go until jurong point, crazy.. available only in bugis n great world la e buffet... cine there got amore wat...', 'ok lar... joking wif u oni...', \"free entry in 2 a wkly comp to win fa cup final tkts 21st may 2005. text fa to 87121 to receive entry question(std txt rate)t&c's apply 08452810075over18's\", 'u dun say so early hor... u c already then say...', \"nah i don't think he goes to usf, he lives around here though\"]\n"
          ]
        }
      ]
    },
    {
      "cell_type": "markdown",
      "source": [
        "### 2. Removing punctuation marks"
      ],
      "metadata": {
        "id": "EKb5mnQ1EMC6"
      }
    },
    {
      "cell_type": "code",
      "source": [
        "without_punctuation_messages = []\n",
        "import string\n",
        "\n",
        "for i in lower_case_messages:\n",
        "    without_punctuation_messages.append(i.translate(str.maketrans(\"\",\"\", string.punctuation)))\n",
        "    \n",
        "without_punctuation_messages"
      ],
      "metadata": {
        "id": "ojmgT34w_g0U",
        "colab": {
          "base_uri": "https://localhost:8080/"
        },
        "outputId": "b339f26a-79e9-4a4f-faee-46f145f37913"
      },
      "execution_count": null,
      "outputs": [
        {
          "output_type": "execute_result",
          "data": {
            "text/plain": [
              "['go until jurong point crazy available only in bugis n great world la e buffet cine there got amore wat',\n",
              " 'ok lar joking wif u oni',\n",
              " 'free entry in 2 a wkly comp to win fa cup final tkts 21st may 2005 text fa to 87121 to receive entry questionstd txt ratetcs apply 08452810075over18s',\n",
              " 'u dun say so early hor u c already then say',\n",
              " 'nah i dont think he goes to usf he lives around here though']"
            ]
          },
          "metadata": {},
          "execution_count": 100
        }
      ]
    },
    {
      "cell_type": "markdown",
      "source": [
        "### 3. Performing Tokenization\n",
        "Tokenization is the process of breaking raw text into small chunks which are known as tokens."
      ],
      "metadata": {
        "id": "D6mkQKHXES47"
      }
    },
    {
      "cell_type": "code",
      "source": [
        "tokenized_messages = [[w for w in d.split()] for d in without_punctuation_messages]\n",
        "tokenized_messages"
      ],
      "metadata": {
        "id": "SexjUpJc_j1z",
        "colab": {
          "base_uri": "https://localhost:8080/"
        },
        "outputId": "36a37312-e263-4496-d037-e11bef3fe1f8"
      },
      "execution_count": null,
      "outputs": [
        {
          "output_type": "execute_result",
          "data": {
            "text/plain": [
              "[['go',\n",
              "  'until',\n",
              "  'jurong',\n",
              "  'point',\n",
              "  'crazy',\n",
              "  'available',\n",
              "  'only',\n",
              "  'in',\n",
              "  'bugis',\n",
              "  'n',\n",
              "  'great',\n",
              "  'world',\n",
              "  'la',\n",
              "  'e',\n",
              "  'buffet',\n",
              "  'cine',\n",
              "  'there',\n",
              "  'got',\n",
              "  'amore',\n",
              "  'wat'],\n",
              " ['ok', 'lar', 'joking', 'wif', 'u', 'oni'],\n",
              " ['free',\n",
              "  'entry',\n",
              "  'in',\n",
              "  '2',\n",
              "  'a',\n",
              "  'wkly',\n",
              "  'comp',\n",
              "  'to',\n",
              "  'win',\n",
              "  'fa',\n",
              "  'cup',\n",
              "  'final',\n",
              "  'tkts',\n",
              "  '21st',\n",
              "  'may',\n",
              "  '2005',\n",
              "  'text',\n",
              "  'fa',\n",
              "  'to',\n",
              "  '87121',\n",
              "  'to',\n",
              "  'receive',\n",
              "  'entry',\n",
              "  'questionstd',\n",
              "  'txt',\n",
              "  'ratetcs',\n",
              "  'apply',\n",
              "  '08452810075over18s'],\n",
              " ['u', 'dun', 'say', 'so', 'early', 'hor', 'u', 'c', 'already', 'then', 'say'],\n",
              " ['nah',\n",
              "  'i',\n",
              "  'dont',\n",
              "  'think',\n",
              "  'he',\n",
              "  'goes',\n",
              "  'to',\n",
              "  'usf',\n",
              "  'he',\n",
              "  'lives',\n",
              "  'around',\n",
              "  'here',\n",
              "  'though']]"
            ]
          },
          "metadata": {},
          "execution_count": 101
        }
      ]
    },
    {
      "cell_type": "markdown",
      "source": [
        "### 4. Counting frequenies of words\n",
        "We count how many times each word appears in a message."
      ],
      "metadata": {
        "id": "wNQz-f78Fdoi"
      }
    },
    {
      "cell_type": "code",
      "source": [
        "frequency_list = []\n",
        "import pprint\n",
        "from collections import Counter\n",
        "\n",
        "frequency_list = [Counter(d) for d in tokenized_messages]\n",
        "pprint.pprint(frequency_list)"
      ],
      "metadata": {
        "id": "eWi3-JBN_mt6",
        "colab": {
          "base_uri": "https://localhost:8080/"
        },
        "outputId": "b643ce09-8abc-4eb1-e004-a3fbdc55d1b5"
      },
      "execution_count": null,
      "outputs": [
        {
          "output_type": "stream",
          "name": "stdout",
          "text": [
            "[Counter({'go': 1,\n",
            "          'until': 1,\n",
            "          'jurong': 1,\n",
            "          'point': 1,\n",
            "          'crazy': 1,\n",
            "          'available': 1,\n",
            "          'only': 1,\n",
            "          'in': 1,\n",
            "          'bugis': 1,\n",
            "          'n': 1,\n",
            "          'great': 1,\n",
            "          'world': 1,\n",
            "          'la': 1,\n",
            "          'e': 1,\n",
            "          'buffet': 1,\n",
            "          'cine': 1,\n",
            "          'there': 1,\n",
            "          'got': 1,\n",
            "          'amore': 1,\n",
            "          'wat': 1}),\n",
            " Counter({'ok': 1, 'lar': 1, 'joking': 1, 'wif': 1, 'u': 1, 'oni': 1}),\n",
            " Counter({'to': 3,\n",
            "          'entry': 2,\n",
            "          'fa': 2,\n",
            "          'free': 1,\n",
            "          'in': 1,\n",
            "          '2': 1,\n",
            "          'a': 1,\n",
            "          'wkly': 1,\n",
            "          'comp': 1,\n",
            "          'win': 1,\n",
            "          'cup': 1,\n",
            "          'final': 1,\n",
            "          'tkts': 1,\n",
            "          '21st': 1,\n",
            "          'may': 1,\n",
            "          '2005': 1,\n",
            "          'text': 1,\n",
            "          '87121': 1,\n",
            "          'receive': 1,\n",
            "          'questionstd': 1,\n",
            "          'txt': 1,\n",
            "          'ratetcs': 1,\n",
            "          'apply': 1,\n",
            "          '08452810075over18s': 1}),\n",
            " Counter({'u': 2,\n",
            "          'say': 2,\n",
            "          'dun': 1,\n",
            "          'so': 1,\n",
            "          'early': 1,\n",
            "          'hor': 1,\n",
            "          'c': 1,\n",
            "          'already': 1,\n",
            "          'then': 1}),\n",
            " Counter({'he': 2,\n",
            "          'nah': 1,\n",
            "          'i': 1,\n",
            "          'dont': 1,\n",
            "          'think': 1,\n",
            "          'goes': 1,\n",
            "          'to': 1,\n",
            "          'usf': 1,\n",
            "          'lives': 1,\n",
            "          'around': 1,\n",
            "          'here': 1,\n",
            "          'though': 1})]\n"
          ]
        }
      ]
    },
    {
      "cell_type": "markdown",
      "source": [
        "## **Data preprocessing with CountVectorizer()**\n",
        "\n"
      ],
      "metadata": {
        "id": "G4H1AzCy_t7K"
      }
    },
    {
      "cell_type": "code",
      "source": [
        "from sklearn.feature_extraction.text import CountVectorizer\n",
        "count_vector = CountVectorizer()"
      ],
      "metadata": {
        "id": "KogzrzXcA9hn"
      },
      "execution_count": null,
      "outputs": []
    },
    {
      "cell_type": "code",
      "source": [
        "count_vector.fit(messages)\n",
        "count_vector.get_feature_names()"
      ],
      "metadata": {
        "id": "gfpGP34m_zIf",
        "colab": {
          "base_uri": "https://localhost:8080/"
        },
        "outputId": "624c9c2d-fc14-40e0-c8d6-8c5136a255e5"
      },
      "execution_count": null,
      "outputs": [
        {
          "output_type": "execute_result",
          "data": {
            "text/plain": [
              "['08452810075over18',\n",
              " '2005',\n",
              " '21st',\n",
              " '87121',\n",
              " 'already',\n",
              " 'amore',\n",
              " 'apply',\n",
              " 'around',\n",
              " 'available',\n",
              " 'buffet',\n",
              " 'bugis',\n",
              " 'cine',\n",
              " 'comp',\n",
              " 'crazy',\n",
              " 'cup',\n",
              " 'don',\n",
              " 'dun',\n",
              " 'early',\n",
              " 'entry',\n",
              " 'fa',\n",
              " 'final',\n",
              " 'free',\n",
              " 'go',\n",
              " 'goes',\n",
              " 'got',\n",
              " 'great',\n",
              " 'he',\n",
              " 'here',\n",
              " 'hor',\n",
              " 'in',\n",
              " 'joking',\n",
              " 'jurong',\n",
              " 'la',\n",
              " 'lar',\n",
              " 'lives',\n",
              " 'may',\n",
              " 'nah',\n",
              " 'ok',\n",
              " 'oni',\n",
              " 'only',\n",
              " 'point',\n",
              " 'question',\n",
              " 'rate',\n",
              " 'receive',\n",
              " 'say',\n",
              " 'so',\n",
              " 'std',\n",
              " 'text',\n",
              " 'then',\n",
              " 'there',\n",
              " 'think',\n",
              " 'though',\n",
              " 'tkts',\n",
              " 'to',\n",
              " 'txt',\n",
              " 'until',\n",
              " 'usf',\n",
              " 'wat',\n",
              " 'wif',\n",
              " 'win',\n",
              " 'wkly',\n",
              " 'world']"
            ]
          },
          "metadata": {},
          "execution_count": 104
        }
      ]
    },
    {
      "cell_type": "code",
      "source": [
        "doc_array = count_vector.transform(messages).toarray()\n",
        "doc_array"
      ],
      "metadata": {
        "id": "ckBWkhQW_3aa",
        "colab": {
          "base_uri": "https://localhost:8080/"
        },
        "outputId": "65e0a8e1-2a82-4e84-a9bd-8db188301116"
      },
      "execution_count": null,
      "outputs": [
        {
          "output_type": "execute_result",
          "data": {
            "text/plain": [
              "array([[0, 0, 0, 0, 0, 1, 0, 0, 1, 1, 1, 1, 0, 1, 0, 0, 0, 0, 0, 0, 0, 0,\n",
              "        1, 0, 1, 1, 0, 0, 0, 1, 0, 1, 1, 0, 0, 0, 0, 0, 0, 1, 1, 0, 0, 0,\n",
              "        0, 0, 0, 0, 0, 1, 0, 0, 0, 0, 0, 1, 0, 1, 0, 0, 0, 1],\n",
              "       [0, 0, 0, 0, 0, 0, 0, 0, 0, 0, 0, 0, 0, 0, 0, 0, 0, 0, 0, 0, 0, 0,\n",
              "        0, 0, 0, 0, 0, 0, 0, 0, 1, 0, 0, 1, 0, 0, 0, 1, 1, 0, 0, 0, 0, 0,\n",
              "        0, 0, 0, 0, 0, 0, 0, 0, 0, 0, 0, 0, 0, 0, 1, 0, 0, 0],\n",
              "       [1, 1, 1, 1, 0, 0, 1, 0, 0, 0, 0, 0, 1, 0, 1, 0, 0, 0, 2, 2, 1, 1,\n",
              "        0, 0, 0, 0, 0, 0, 0, 1, 0, 0, 0, 0, 0, 1, 0, 0, 0, 0, 0, 1, 1, 1,\n",
              "        0, 0, 1, 1, 0, 0, 0, 0, 1, 3, 1, 0, 0, 0, 0, 1, 1, 0],\n",
              "       [0, 0, 0, 0, 1, 0, 0, 0, 0, 0, 0, 0, 0, 0, 0, 0, 1, 1, 0, 0, 0, 0,\n",
              "        0, 0, 0, 0, 0, 0, 1, 0, 0, 0, 0, 0, 0, 0, 0, 0, 0, 0, 0, 0, 0, 0,\n",
              "        2, 1, 0, 0, 1, 0, 0, 0, 0, 0, 0, 0, 0, 0, 0, 0, 0, 0],\n",
              "       [0, 0, 0, 0, 0, 0, 0, 1, 0, 0, 0, 0, 0, 0, 0, 1, 0, 0, 0, 0, 0, 0,\n",
              "        0, 1, 0, 0, 2, 1, 0, 0, 0, 0, 0, 0, 1, 0, 1, 0, 0, 0, 0, 0, 0, 0,\n",
              "        0, 0, 0, 0, 0, 0, 1, 1, 0, 1, 0, 0, 1, 0, 0, 0, 0, 0]])"
            ]
          },
          "metadata": {},
          "execution_count": 105
        }
      ]
    },
    {
      "cell_type": "code",
      "source": [
        "frequency_matrix = pd.DataFrame(doc_array, columns = count_vector.get_feature_names())\n",
        "frequency_matrix"
      ],
      "metadata": {
        "id": "H0drexUq_5tr",
        "colab": {
          "base_uri": "https://localhost:8080/",
          "height": 297
        },
        "outputId": "58bb341a-4abf-464b-e877-a682ff91cbd2"
      },
      "execution_count": null,
      "outputs": [
        {
          "output_type": "execute_result",
          "data": {
            "text/plain": [
              "   08452810075over18  2005  21st  87121  already  amore  apply  around  \\\n",
              "0                  0     0     0      0        0      1      0       0   \n",
              "1                  0     0     0      0        0      0      0       0   \n",
              "2                  1     1     1      1        0      0      1       0   \n",
              "3                  0     0     0      0        1      0      0       0   \n",
              "4                  0     0     0      0        0      0      0       1   \n",
              "\n",
              "   available  buffet  ...  tkts  to  txt  until  usf  wat  wif  win  wkly  \\\n",
              "0          1       1  ...     0   0    0      1    0    1    0    0     0   \n",
              "1          0       0  ...     0   0    0      0    0    0    1    0     0   \n",
              "2          0       0  ...     1   3    1      0    0    0    0    1     1   \n",
              "3          0       0  ...     0   0    0      0    0    0    0    0     0   \n",
              "4          0       0  ...     0   1    0      0    1    0    0    0     0   \n",
              "\n",
              "   world  \n",
              "0      1  \n",
              "1      0  \n",
              "2      0  \n",
              "3      0  \n",
              "4      0  \n",
              "\n",
              "[5 rows x 62 columns]"
            ],
            "text/html": [
              "\n",
              "  <div id=\"df-299154ee-716f-4afc-84aa-b481297b9f75\">\n",
              "    <div class=\"colab-df-container\">\n",
              "      <div>\n",
              "<style scoped>\n",
              "    .dataframe tbody tr th:only-of-type {\n",
              "        vertical-align: middle;\n",
              "    }\n",
              "\n",
              "    .dataframe tbody tr th {\n",
              "        vertical-align: top;\n",
              "    }\n",
              "\n",
              "    .dataframe thead th {\n",
              "        text-align: right;\n",
              "    }\n",
              "</style>\n",
              "<table border=\"1\" class=\"dataframe\">\n",
              "  <thead>\n",
              "    <tr style=\"text-align: right;\">\n",
              "      <th></th>\n",
              "      <th>08452810075over18</th>\n",
              "      <th>2005</th>\n",
              "      <th>21st</th>\n",
              "      <th>87121</th>\n",
              "      <th>already</th>\n",
              "      <th>amore</th>\n",
              "      <th>apply</th>\n",
              "      <th>around</th>\n",
              "      <th>available</th>\n",
              "      <th>buffet</th>\n",
              "      <th>...</th>\n",
              "      <th>tkts</th>\n",
              "      <th>to</th>\n",
              "      <th>txt</th>\n",
              "      <th>until</th>\n",
              "      <th>usf</th>\n",
              "      <th>wat</th>\n",
              "      <th>wif</th>\n",
              "      <th>win</th>\n",
              "      <th>wkly</th>\n",
              "      <th>world</th>\n",
              "    </tr>\n",
              "  </thead>\n",
              "  <tbody>\n",
              "    <tr>\n",
              "      <th>0</th>\n",
              "      <td>0</td>\n",
              "      <td>0</td>\n",
              "      <td>0</td>\n",
              "      <td>0</td>\n",
              "      <td>0</td>\n",
              "      <td>1</td>\n",
              "      <td>0</td>\n",
              "      <td>0</td>\n",
              "      <td>1</td>\n",
              "      <td>1</td>\n",
              "      <td>...</td>\n",
              "      <td>0</td>\n",
              "      <td>0</td>\n",
              "      <td>0</td>\n",
              "      <td>1</td>\n",
              "      <td>0</td>\n",
              "      <td>1</td>\n",
              "      <td>0</td>\n",
              "      <td>0</td>\n",
              "      <td>0</td>\n",
              "      <td>1</td>\n",
              "    </tr>\n",
              "    <tr>\n",
              "      <th>1</th>\n",
              "      <td>0</td>\n",
              "      <td>0</td>\n",
              "      <td>0</td>\n",
              "      <td>0</td>\n",
              "      <td>0</td>\n",
              "      <td>0</td>\n",
              "      <td>0</td>\n",
              "      <td>0</td>\n",
              "      <td>0</td>\n",
              "      <td>0</td>\n",
              "      <td>...</td>\n",
              "      <td>0</td>\n",
              "      <td>0</td>\n",
              "      <td>0</td>\n",
              "      <td>0</td>\n",
              "      <td>0</td>\n",
              "      <td>0</td>\n",
              "      <td>1</td>\n",
              "      <td>0</td>\n",
              "      <td>0</td>\n",
              "      <td>0</td>\n",
              "    </tr>\n",
              "    <tr>\n",
              "      <th>2</th>\n",
              "      <td>1</td>\n",
              "      <td>1</td>\n",
              "      <td>1</td>\n",
              "      <td>1</td>\n",
              "      <td>0</td>\n",
              "      <td>0</td>\n",
              "      <td>1</td>\n",
              "      <td>0</td>\n",
              "      <td>0</td>\n",
              "      <td>0</td>\n",
              "      <td>...</td>\n",
              "      <td>1</td>\n",
              "      <td>3</td>\n",
              "      <td>1</td>\n",
              "      <td>0</td>\n",
              "      <td>0</td>\n",
              "      <td>0</td>\n",
              "      <td>0</td>\n",
              "      <td>1</td>\n",
              "      <td>1</td>\n",
              "      <td>0</td>\n",
              "    </tr>\n",
              "    <tr>\n",
              "      <th>3</th>\n",
              "      <td>0</td>\n",
              "      <td>0</td>\n",
              "      <td>0</td>\n",
              "      <td>0</td>\n",
              "      <td>1</td>\n",
              "      <td>0</td>\n",
              "      <td>0</td>\n",
              "      <td>0</td>\n",
              "      <td>0</td>\n",
              "      <td>0</td>\n",
              "      <td>...</td>\n",
              "      <td>0</td>\n",
              "      <td>0</td>\n",
              "      <td>0</td>\n",
              "      <td>0</td>\n",
              "      <td>0</td>\n",
              "      <td>0</td>\n",
              "      <td>0</td>\n",
              "      <td>0</td>\n",
              "      <td>0</td>\n",
              "      <td>0</td>\n",
              "    </tr>\n",
              "    <tr>\n",
              "      <th>4</th>\n",
              "      <td>0</td>\n",
              "      <td>0</td>\n",
              "      <td>0</td>\n",
              "      <td>0</td>\n",
              "      <td>0</td>\n",
              "      <td>0</td>\n",
              "      <td>0</td>\n",
              "      <td>1</td>\n",
              "      <td>0</td>\n",
              "      <td>0</td>\n",
              "      <td>...</td>\n",
              "      <td>0</td>\n",
              "      <td>1</td>\n",
              "      <td>0</td>\n",
              "      <td>0</td>\n",
              "      <td>1</td>\n",
              "      <td>0</td>\n",
              "      <td>0</td>\n",
              "      <td>0</td>\n",
              "      <td>0</td>\n",
              "      <td>0</td>\n",
              "    </tr>\n",
              "  </tbody>\n",
              "</table>\n",
              "<p>5 rows × 62 columns</p>\n",
              "</div>\n",
              "      <button class=\"colab-df-convert\" onclick=\"convertToInteractive('df-299154ee-716f-4afc-84aa-b481297b9f75')\"\n",
              "              title=\"Convert this dataframe to an interactive table.\"\n",
              "              style=\"display:none;\">\n",
              "        \n",
              "  <svg xmlns=\"http://www.w3.org/2000/svg\" height=\"24px\"viewBox=\"0 0 24 24\"\n",
              "       width=\"24px\">\n",
              "    <path d=\"M0 0h24v24H0V0z\" fill=\"none\"/>\n",
              "    <path d=\"M18.56 5.44l.94 2.06.94-2.06 2.06-.94-2.06-.94-.94-2.06-.94 2.06-2.06.94zm-11 1L8.5 8.5l.94-2.06 2.06-.94-2.06-.94L8.5 2.5l-.94 2.06-2.06.94zm10 10l.94 2.06.94-2.06 2.06-.94-2.06-.94-.94-2.06-.94 2.06-2.06.94z\"/><path d=\"M17.41 7.96l-1.37-1.37c-.4-.4-.92-.59-1.43-.59-.52 0-1.04.2-1.43.59L10.3 9.45l-7.72 7.72c-.78.78-.78 2.05 0 2.83L4 21.41c.39.39.9.59 1.41.59.51 0 1.02-.2 1.41-.59l7.78-7.78 2.81-2.81c.8-.78.8-2.07 0-2.86zM5.41 20L4 18.59l7.72-7.72 1.47 1.35L5.41 20z\"/>\n",
              "  </svg>\n",
              "      </button>\n",
              "      \n",
              "  <style>\n",
              "    .colab-df-container {\n",
              "      display:flex;\n",
              "      flex-wrap:wrap;\n",
              "      gap: 12px;\n",
              "    }\n",
              "\n",
              "    .colab-df-convert {\n",
              "      background-color: #E8F0FE;\n",
              "      border: none;\n",
              "      border-radius: 50%;\n",
              "      cursor: pointer;\n",
              "      display: none;\n",
              "      fill: #1967D2;\n",
              "      height: 32px;\n",
              "      padding: 0 0 0 0;\n",
              "      width: 32px;\n",
              "    }\n",
              "\n",
              "    .colab-df-convert:hover {\n",
              "      background-color: #E2EBFA;\n",
              "      box-shadow: 0px 1px 2px rgba(60, 64, 67, 0.3), 0px 1px 3px 1px rgba(60, 64, 67, 0.15);\n",
              "      fill: #174EA6;\n",
              "    }\n",
              "\n",
              "    [theme=dark] .colab-df-convert {\n",
              "      background-color: #3B4455;\n",
              "      fill: #D2E3FC;\n",
              "    }\n",
              "\n",
              "    [theme=dark] .colab-df-convert:hover {\n",
              "      background-color: #434B5C;\n",
              "      box-shadow: 0px 1px 3px 1px rgba(0, 0, 0, 0.15);\n",
              "      filter: drop-shadow(0px 1px 2px rgba(0, 0, 0, 0.3));\n",
              "      fill: #FFFFFF;\n",
              "    }\n",
              "  </style>\n",
              "\n",
              "      <script>\n",
              "        const buttonEl =\n",
              "          document.querySelector('#df-299154ee-716f-4afc-84aa-b481297b9f75 button.colab-df-convert');\n",
              "        buttonEl.style.display =\n",
              "          google.colab.kernel.accessAllowed ? 'block' : 'none';\n",
              "\n",
              "        async function convertToInteractive(key) {\n",
              "          const element = document.querySelector('#df-299154ee-716f-4afc-84aa-b481297b9f75');\n",
              "          const dataTable =\n",
              "            await google.colab.kernel.invokeFunction('convertToInteractive',\n",
              "                                                     [key], {});\n",
              "          if (!dataTable) return;\n",
              "\n",
              "          const docLinkHtml = 'Like what you see? Visit the ' +\n",
              "            '<a target=\"_blank\" href=https://colab.research.google.com/notebooks/data_table.ipynb>data table notebook</a>'\n",
              "            + ' to learn more about interactive tables.';\n",
              "          element.innerHTML = '';\n",
              "          dataTable['output_type'] = 'display_data';\n",
              "          await google.colab.output.renderOutput(dataTable, element);\n",
              "          const docLink = document.createElement('div');\n",
              "          docLink.innerHTML = docLinkHtml;\n",
              "          element.appendChild(docLink);\n",
              "        }\n",
              "      </script>\n",
              "    </div>\n",
              "  </div>\n",
              "  "
            ]
          },
          "metadata": {},
          "execution_count": 106
        }
      ]
    },
    {
      "cell_type": "markdown",
      "source": [
        "## **Naive Bayes Model**\n",
        "For our dataset, we are utilizing Sklearn's sklearn.naive bayes technique to produce predictions. We will use the multinomial Naive Bayes implementation in particular. With discrete features like word counts for text classification in our case, this particular classifier is appropriate. It accepts input in the form of integer word counts."
      ],
      "metadata": {
        "id": "NLYfSdWOADi_"
      }
    },
    {
      "cell_type": "code",
      "source": [
        "#splitting data into training and testing data\n",
        "from sklearn.model_selection import train_test_split\n",
        "X_train, X_test, y_train, y_test = train_test_split(df['sms'], \n",
        "                                                    df['label'],test_size=0.20, \n",
        "                                                    random_state=1)"
      ],
      "metadata": {
        "id": "ZfwfH_zY-wpj"
      },
      "execution_count": null,
      "outputs": []
    },
    {
      "cell_type": "code",
      "source": [
        "from sklearn.feature_extraction.text import CountVectorizer\n",
        "count_vector = CountVectorizer()\n",
        "\n",
        "# Fit the training data and then return the matrix\n",
        "training_data = count_vector.fit_transform(X_train)\n",
        "# print(training_data)\n",
        "# Transform testing data and return the matrix. \n",
        "testing_data = count_vector.transform(X_test)"
      ],
      "metadata": {
        "id": "iso1H_Yw-6Eo"
      },
      "execution_count": null,
      "outputs": []
    },
    {
      "cell_type": "code",
      "source": [
        "#Defining a function to visualize the confusion matrix\n",
        "from sklearn.metrics import classification_report\n",
        "# from sklearn.metrics import confusion_matrix\n",
        "def plot_confusion_matrix(y_test, y_pred, plt_title):\n",
        "    c_m=confusion_matrix(y_test, y_pred)\n",
        "    print(\"\\u0332\".join('\\nClassification Report\\n'),'\\n', classification_report(y_test, y_pred))\n",
        "    sns.heatmap(c_m, fmt='g', annot=True, cmap='BuGn')\n",
        "    plt.xlabel('Predicted Values')\n",
        "    plt.ylabel('Actual Values')\n",
        "    plt.title(plt_title)\n",
        "    plt.show()\n",
        "    return c_m"
      ],
      "metadata": {
        "id": "TDUc8mnUUGOP"
      },
      "execution_count": null,
      "outputs": []
    },
    {
      "cell_type": "code",
      "source": [
        "from sklearn.naive_bayes import MultinomialNB\n",
        "from sklearn.metrics import confusion_matrix\n",
        "from sklearn.metrics import accuracy_score\n",
        "naive_bayes = MultinomialNB()\n",
        "naive_bayes.fit(training_data,y_train)"
      ],
      "metadata": {
        "id": "eOGbnkVs-6Mr",
        "colab": {
          "base_uri": "https://localhost:8080/"
        },
        "outputId": "0993c6c4-a7b9-4a4f-dbb1-5385fbc139b6"
      },
      "execution_count": null,
      "outputs": [
        {
          "output_type": "execute_result",
          "data": {
            "text/plain": [
              "MultinomialNB()"
            ]
          },
          "metadata": {},
          "execution_count": 110
        }
      ]
    },
    {
      "cell_type": "markdown",
      "source": [
        "## **Evaluation**\n",
        "We are using the Confusion Matrix to obtain the below mentioned evaluation factors:\n",
        "\n",
        "The classifier's **accuracy** is determined by how frequently it predicts correctly. It is the proportion of correctly predicted events to all predicted events (the number of test data points). \n",
        "\n",
        "**Precision** reveals what percentage of the mails we labeled as spam were indeed spam. It is a ratio of true positives (words flagged as spam that are indeed spam) to all positives (words flagged as spam regardless of whether that categorization was accurate). \n",
        "\n",
        "\n",
        "**Recall** informs us of the percentage of messages that were truly labeled as spam by our system. The ratio of true positives, or words that were marked as spam but are truly spam, to all the terms that were marked as spam.\n",
        "\n",
        "The **F1-score** is a statistic that is essentially the harmonic mean of precision and recall. The formula of the F1 score depends completely upon precision and recall."
      ],
      "metadata": {
        "id": "9kiF4GB4AJfc"
      }
    },
    {
      "cell_type": "code",
      "source": [
        "predictions = naive_bayes.predict(testing_data)\n",
        "print('Accuracy Score for Naive Bayes Classification: ',accuracy_score(y_test,predictions))\n",
        "cm_NB= plot_confusion_matrix(y_test, predictions, 'Naive Bayes Confusion Matrix')\n"
      ],
      "metadata": {
        "id": "DDbhZC9G-_Ep",
        "colab": {
          "base_uri": "https://localhost:8080/",
          "height": 516
        },
        "outputId": "83e0d20c-b85d-403d-bdfe-921062bdfead"
      },
      "execution_count": null,
      "outputs": [
        {
          "output_type": "stream",
          "name": "stdout",
          "text": [
            "Accuracy Score for Naive Bayes Classification:  0.9910313901345291\n",
            "\n",
            "̲C̲l̲a̲s̲s̲i̲f̲i̲c̲a̲t̲i̲o̲n̲ ̲R̲e̲p̲o̲r̲t̲\n",
            " \n",
            "               precision    recall  f1-score   support\n",
            "\n",
            "           0       0.99      1.00      0.99       968\n",
            "           1       0.99      0.95      0.97       147\n",
            "\n",
            "    accuracy                           0.99      1115\n",
            "   macro avg       0.99      0.97      0.98      1115\n",
            "weighted avg       0.99      0.99      0.99      1115\n",
            "\n"
          ]
        },
        {
          "output_type": "display_data",
          "data": {
            "text/plain": [
              "<Figure size 432x288 with 2 Axes>"
            ],
            "image/png": "[encoded data removed]"
          },
          "metadata": {
            "needs_background": "light"
          }
        }
      ]
    },
    {
      "cell_type": "markdown",
      "source": [
        "##**Conclusion**\n",
        "The capability of Naive Bayes to handle an exceptionally large number of features is one of its key benefits over other classification methods. Since there are thousands of different words, they are all treated as features in our situation. Additionally, it functions well even when irrelevant features are present and is largely unaffected by them. \n",
        "\n",
        "Its relative simplicity is another key benefit. Naive Bayes' works well out of the box and rarely needs its parameters adjusted, unless typically in situations when the data distribution is known. Rarely does the data overfit the model. \n",
        "\n",
        "Another key benefit is how quickly the model trains and predicts given the volume of data it can manage."
      ],
      "metadata": {
        "id": "mz9CyFZiGP3S"
      }
    }
  ]
}